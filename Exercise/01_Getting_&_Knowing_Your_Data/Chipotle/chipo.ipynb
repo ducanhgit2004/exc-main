{
  "cells": [
    {
      "cell_type": "markdown",
      "metadata": {
        "pycharm": {
          "name": "#%% md\n"
        },
        "id": "f4qNzhyDeVAa"
      },
      "source": [
        "# Ex2 - Getting and Knowing your Data"
      ]
    },
    {
      "cell_type": "markdown",
      "metadata": {
        "pycharm": {
          "name": "#%% md\n"
        },
        "id": "nFub_qY8eVAd"
      },
      "source": [
        "This time we are going to pull data directly from the internet.\n",
        "Special thanks to: https://github.com/justmarkham for sharing the dataset and materials.\n",
        "\n",
        "### Step 1. Import the necessary libraries"
      ]
    },
    {
      "cell_type": "code",
      "execution_count": null,
      "metadata": {
        "pycharm": {
          "name": "#%%\n"
        },
        "id": "9dUbSC4VeVAd"
      },
      "outputs": [],
      "source": [
        "import pandas as pd"
      ]
    },
    {
      "cell_type": "markdown",
      "metadata": {
        "pycharm": {
          "name": "#%% md\n"
        },
        "id": "P3wElYDaeVAe"
      },
      "source": [
        "### Step 2. Import the dataset from this [address](https://raw.githubusercontent.com/thieu1995/csv-files/main/data/pandas/chipotle.tsv)."
      ]
    },
    {
      "cell_type": "markdown",
      "metadata": {
        "pycharm": {
          "name": "#%% md\n"
        },
        "id": "AavnF60WeVAe"
      },
      "source": [
        "### Step 3. Assign it to a variable called chipo."
      ]
    },
    {
      "cell_type": "code",
      "execution_count": null,
      "metadata": {
        "pycharm": {
          "name": "#%%\n"
        },
        "colab": {
          "base_uri": "https://localhost:8080/"
        },
        "id": "bVLGsFYweVAf",
        "outputId": "71cdf296-8c01-4d6e-827f-1c391de27350"
      },
      "outputs": [
        {
          "output_type": "stream",
          "name": "stdout",
          "text": [
            "<class 'pandas.core.frame.DataFrame'>\n",
            "RangeIndex: 4622 entries, 0 to 4621\n",
            "Data columns (total 5 columns):\n",
            " #   Column              Non-Null Count  Dtype \n",
            "---  ------              --------------  ----- \n",
            " 0   order_id            4622 non-null   int64 \n",
            " 1   quantity            4622 non-null   int64 \n",
            " 2   item_name           4622 non-null   object\n",
            " 3   choice_description  3376 non-null   object\n",
            " 4   item_price          4622 non-null   object\n",
            "dtypes: int64(2), object(3)\n",
            "memory usage: 180.7+ KB\n",
            "None\n"
          ]
        }
      ],
      "source": [
        "# Đọc dữ liệu từ file TSV bạn đã upload\n",
        "chipo = pd.read_csv(\"/content/chipotle.tsv\", sep='\\t')\n",
        "\n",
        "# Xem thông tin cơ bản\n",
        "print(chipo.info())"
      ]
    },
    {
      "cell_type": "markdown",
      "metadata": {
        "pycharm": {
          "name": "#%% md\n"
        },
        "id": "dAsuV6K4eVAf"
      },
      "source": [
        "### Step 4. See the first 10 entries"
      ]
    },
    {
      "cell_type": "code",
      "execution_count": null,
      "metadata": {
        "scrolled": false,
        "pycharm": {
          "name": "#%%\n"
        },
        "colab": {
          "base_uri": "https://localhost:8080/"
        },
        "id": "gn_vSIzBeVAf",
        "outputId": "178f7f8b-a156-43fe-846f-3c95b614d3d8"
      },
      "outputs": [
        {
          "output_type": "stream",
          "name": "stdout",
          "text": [
            "   order_id  quantity                              item_name  \\\n",
            "0         1         1           Chips and Fresh Tomato Salsa   \n",
            "1         1         1                                   Izze   \n",
            "2         1         1                       Nantucket Nectar   \n",
            "3         1         1  Chips and Tomatillo-Green Chili Salsa   \n",
            "4         2         2                           Chicken Bowl   \n",
            "5         3         1                           Chicken Bowl   \n",
            "6         3         1                          Side of Chips   \n",
            "7         4         1                          Steak Burrito   \n",
            "8         4         1                       Steak Soft Tacos   \n",
            "9         5         1                          Steak Burrito   \n",
            "\n",
            "                                  choice_description item_price  \n",
            "0                                                NaN     $2.39   \n",
            "1                                       [Clementine]     $3.39   \n",
            "2                                            [Apple]     $3.39   \n",
            "3                                                NaN     $2.39   \n",
            "4  [Tomatillo-Red Chili Salsa (Hot), [Black Beans...    $16.98   \n",
            "5  [Fresh Tomato Salsa (Mild), [Rice, Cheese, Sou...    $10.98   \n",
            "6                                                NaN     $1.69   \n",
            "7  [Tomatillo Red Chili Salsa, [Fajita Vegetables...    $11.75   \n",
            "8  [Tomatillo Green Chili Salsa, [Pinto Beans, Ch...     $9.25   \n",
            "9  [Fresh Tomato Salsa, [Rice, Black Beans, Pinto...     $9.25   \n"
          ]
        }
      ],
      "source": [
        "print(chipo.head(10))\n"
      ]
    },
    {
      "cell_type": "markdown",
      "metadata": {
        "pycharm": {
          "name": "#%% md\n"
        },
        "id": "TfkRsn6seVAf"
      },
      "source": [
        "### Step 5. What is the number of observations in the dataset?"
      ]
    },
    {
      "cell_type": "code",
      "execution_count": null,
      "metadata": {
        "pycharm": {
          "name": "#%%\n"
        },
        "colab": {
          "base_uri": "https://localhost:8080/"
        },
        "id": "DpHAk03deVAg",
        "outputId": "a88ef94c-025c-49e3-d0d3-f0573f2ac3aa"
      },
      "outputs": [
        {
          "output_type": "stream",
          "name": "stdout",
          "text": [
            "Number of observations (len): 4622\n"
          ]
        }
      ],
      "source": [
        "# Solution 1\n",
        "\n",
        "print(\"Number of observations (len):\", len(chipo))\n"
      ]
    },
    {
      "cell_type": "code",
      "execution_count": null,
      "metadata": {
        "pycharm": {
          "name": "#%%\n"
        },
        "colab": {
          "base_uri": "https://localhost:8080/"
        },
        "id": "vN-LP6MreVAh",
        "outputId": "18c6789b-a191-4def-8688-91245d94af62"
      },
      "outputs": [
        {
          "output_type": "stream",
          "name": "stdout",
          "text": [
            "Number of observations (shape): 4622\n"
          ]
        }
      ],
      "source": [
        "# Solution 2\n",
        "\n",
        "print(\"Number of observations (shape):\", chipo.shape[0])\n"
      ]
    },
    {
      "cell_type": "markdown",
      "metadata": {
        "pycharm": {
          "name": "#%% md\n"
        },
        "id": "NHJMkGpDeVAh"
      },
      "source": [
        "### Step 6. What is the number of columns in the dataset?"
      ]
    },
    {
      "cell_type": "code",
      "execution_count": null,
      "metadata": {
        "pycharm": {
          "name": "#%%\n"
        },
        "colab": {
          "base_uri": "https://localhost:8080/"
        },
        "id": "4i-6tgwSeVAh",
        "outputId": "8473ca60-43cc-4d71-bbcd-3a3d0e8d3133"
      },
      "outputs": [
        {
          "output_type": "stream",
          "name": "stdout",
          "text": [
            "Number of columns: 5\n"
          ]
        }
      ],
      "source": [
        "print(\"Number of columns:\", chipo.shape[1])\n"
      ]
    },
    {
      "cell_type": "markdown",
      "metadata": {
        "pycharm": {
          "name": "#%% md\n"
        },
        "id": "ymlxVLzMeVAh"
      },
      "source": [
        "### Step 7. Print the name of all the columns."
      ]
    },
    {
      "cell_type": "code",
      "execution_count": null,
      "metadata": {
        "pycharm": {
          "name": "#%%\n"
        },
        "colab": {
          "base_uri": "https://localhost:8080/"
        },
        "id": "P916EceseVAi",
        "outputId": "8e9824d1-548e-4ba1-a7bf-ad53554cd137"
      },
      "outputs": [
        {
          "output_type": "stream",
          "name": "stdout",
          "text": [
            "Columns: ['order_id', 'quantity', 'item_name', 'choice_description', 'item_price']\n"
          ]
        }
      ],
      "source": [
        "print(\"Columns:\", chipo.columns.tolist())\n"
      ]
    },
    {
      "cell_type": "markdown",
      "metadata": {
        "pycharm": {
          "name": "#%% md\n"
        },
        "id": "JLjWTX0MeVAi"
      },
      "source": [
        "### Step 8. How is the dataset indexed?"
      ]
    },
    {
      "cell_type": "code",
      "execution_count": null,
      "metadata": {
        "pycharm": {
          "name": "#%%\n"
        },
        "colab": {
          "base_uri": "https://localhost:8080/"
        },
        "id": "lGamq-TaeVAi",
        "outputId": "cdd261df-00ba-4337-edaf-a7d7f4bd97ed"
      },
      "outputs": [
        {
          "output_type": "stream",
          "name": "stdout",
          "text": [
            "Index: RangeIndex(start=0, stop=4622, step=1)\n"
          ]
        }
      ],
      "source": [
        "print(\"Index:\", chipo.index)\n"
      ]
    },
    {
      "cell_type": "markdown",
      "metadata": {
        "pycharm": {
          "name": "#%% md\n"
        },
        "id": "ZIoOXOeJeVAi"
      },
      "source": [
        "### Step 9. Which was the most-ordered item?"
      ]
    },
    {
      "cell_type": "code",
      "execution_count": null,
      "metadata": {
        "pycharm": {
          "name": "#%%\n"
        },
        "colab": {
          "base_uri": "https://localhost:8080/"
        },
        "id": "KsEXMhOOeVAi",
        "outputId": "b90a3d84-1f50-423e-9071-e3b1d6070964"
      },
      "outputs": [
        {
          "output_type": "stream",
          "name": "stdout",
          "text": [
            "Most ordered item: Chicken Bowl\n"
          ]
        }
      ],
      "source": [
        "most_ordered_item = chipo.groupby('item_name').quantity.sum().idxmax()\n",
        "print(\"Most ordered item:\", most_ordered_item)\n"
      ]
    },
    {
      "cell_type": "markdown",
      "metadata": {
        "pycharm": {
          "name": "#%% md\n"
        },
        "id": "UnthMnH5eVAi"
      },
      "source": [
        "### Step 10. For the most-ordered item, how many items were ordered?"
      ]
    },
    {
      "cell_type": "code",
      "execution_count": null,
      "metadata": {
        "pycharm": {
          "name": "#%%\n"
        },
        "colab": {
          "base_uri": "https://localhost:8080/"
        },
        "id": "GoeVZlRqeVAj",
        "outputId": "449a8f1a-05ce-419f-e3b3-d991f0657a7a"
      },
      "outputs": [
        {
          "output_type": "stream",
          "name": "stdout",
          "text": [
            "Quantity ordered of most-ordered item: 761\n"
          ]
        }
      ],
      "source": [
        "ordered_qty = chipo.groupby('item_name').quantity.sum().max()\n",
        "print(\"Quantity ordered of most-ordered item:\", ordered_qty)\n"
      ]
    },
    {
      "cell_type": "markdown",
      "metadata": {
        "pycharm": {
          "name": "#%% md\n"
        },
        "id": "GRUHFfAieVAj"
      },
      "source": [
        "### Step 11. What was the most ordered item in the choice_description column?"
      ]
    },
    {
      "cell_type": "code",
      "execution_count": null,
      "metadata": {
        "pycharm": {
          "name": "#%%\n"
        },
        "colab": {
          "base_uri": "https://localhost:8080/"
        },
        "id": "eUxzzFD3eVAj",
        "outputId": "2835ac98-3a77-469b-83b0-2d86debfc002"
      },
      "outputs": [
        {
          "output_type": "stream",
          "name": "stdout",
          "text": [
            "Most ordered choice_description: [Diet Coke]\n"
          ]
        }
      ],
      "source": [
        "most_ordered_choice = chipo.groupby('choice_description').quantity.sum().idxmax()\n",
        "print(\"Most ordered choice_description:\", most_ordered_choice)\n"
      ]
    },
    {
      "cell_type": "markdown",
      "metadata": {
        "pycharm": {
          "name": "#%% md\n"
        },
        "id": "uvkfcNGneVAj"
      },
      "source": [
        "### Step 12. How many items were orderd in total?"
      ]
    },
    {
      "cell_type": "code",
      "execution_count": null,
      "metadata": {
        "pycharm": {
          "name": "#%%\n"
        },
        "colab": {
          "base_uri": "https://localhost:8080/"
        },
        "id": "hlSPVNiyeVAj",
        "outputId": "66319e7c-7c91-46bc-aaf9-130b2c7fc3a6"
      },
      "outputs": [
        {
          "output_type": "stream",
          "name": "stdout",
          "text": [
            "Total number of items ordered: 4972\n"
          ]
        }
      ],
      "source": [
        "total_items = chipo.quantity.sum()\n",
        "print(\"Total number of items ordered:\", total_items)\n"
      ]
    },
    {
      "cell_type": "markdown",
      "metadata": {
        "pycharm": {
          "name": "#%% md\n"
        },
        "id": "IzRVPPx8eVAj"
      },
      "source": [
        "### Step 13. Turn the item price into a float"
      ]
    },
    {
      "cell_type": "markdown",
      "metadata": {
        "pycharm": {
          "name": "#%% md\n"
        },
        "id": "Pg27R3SkeVAk"
      },
      "source": [
        "#### Step 13.a. Check the item price type"
      ]
    },
    {
      "cell_type": "code",
      "execution_count": null,
      "metadata": {
        "pycharm": {
          "name": "#%%\n"
        },
        "colab": {
          "base_uri": "https://localhost:8080/"
        },
        "id": "g6xivu69eVAk",
        "outputId": "71e8bfdc-741a-4726-aa74-42fcd8d45237"
      },
      "outputs": [
        {
          "output_type": "stream",
          "name": "stdout",
          "text": [
            "Before conversion: object\n"
          ]
        }
      ],
      "source": [
        "print(\"Before conversion:\", chipo.item_price.dtype)\n"
      ]
    },
    {
      "cell_type": "markdown",
      "metadata": {
        "pycharm": {
          "name": "#%% md\n"
        },
        "id": "4EmjUjgTeVAk"
      },
      "source": [
        "#### Step 13.b. Create a lambda function and change the type of item price"
      ]
    },
    {
      "cell_type": "code",
      "execution_count": null,
      "metadata": {
        "collapsed": true,
        "pycharm": {
          "name": "#%%\n"
        },
        "id": "JAqdCFcWeVAk"
      },
      "outputs": [],
      "source": [
        "chipo['item_price'] = chipo['item_price'].apply(lambda x: float(x.replace('$','')))\n"
      ]
    },
    {
      "cell_type": "markdown",
      "metadata": {
        "pycharm": {
          "name": "#%% md\n"
        },
        "id": "1wvvf9JyeVAk"
      },
      "source": [
        "#### Step 13.c. Check the item price type"
      ]
    },
    {
      "cell_type": "code",
      "execution_count": null,
      "metadata": {
        "pycharm": {
          "name": "#%%\n"
        },
        "colab": {
          "base_uri": "https://localhost:8080/"
        },
        "id": "_jgtfSO4eVAl",
        "outputId": "888b0dea-62a6-40fd-e07e-ef4b338911cd"
      },
      "outputs": [
        {
          "output_type": "stream",
          "name": "stdout",
          "text": [
            "After conversion: float64\n"
          ]
        }
      ],
      "source": [
        "print(\"After conversion:\", chipo.item_price.dtype)\n"
      ]
    },
    {
      "cell_type": "markdown",
      "metadata": {
        "pycharm": {
          "name": "#%% md\n"
        },
        "id": "9S7vpd9ueVAl"
      },
      "source": [
        "### Step 14. How much was the revenue for the period in the dataset?"
      ]
    },
    {
      "cell_type": "code",
      "execution_count": null,
      "metadata": {
        "pycharm": {
          "name": "#%%\n"
        },
        "colab": {
          "base_uri": "https://localhost:8080/"
        },
        "id": "4KBOO-EYeVAl",
        "outputId": "71dfbb96-f77c-4a90-a21f-7968202f1891"
      },
      "outputs": [
        {
          "output_type": "stream",
          "name": "stdout",
          "text": [
            "Total revenue: 39237.02\n"
          ]
        }
      ],
      "source": [
        "total_revenue = (chipo['quantity'] * chipo['item_price']).sum()\n",
        "print(\"Total revenue:\", total_revenue)\n"
      ]
    },
    {
      "cell_type": "markdown",
      "metadata": {
        "pycharm": {
          "name": "#%% md\n"
        },
        "id": "ehBtkFZJeVAl"
      },
      "source": [
        "### Step 15. How many orders were made in the period?"
      ]
    },
    {
      "cell_type": "code",
      "execution_count": null,
      "metadata": {
        "pycharm": {
          "name": "#%%\n"
        },
        "colab": {
          "base_uri": "https://localhost:8080/"
        },
        "id": "Zoie9ejaeVAl",
        "outputId": "2a9bedfa-d113-41c4-a497-809726ba9555"
      },
      "outputs": [
        {
          "output_type": "stream",
          "name": "stdout",
          "text": [
            "Number of orders: 1834\n"
          ]
        }
      ],
      "source": [
        "total_orders = chipo.order_id.nunique()\n",
        "print(\"Number of orders:\", total_orders)\n"
      ]
    },
    {
      "cell_type": "markdown",
      "metadata": {
        "pycharm": {
          "name": "#%% md\n"
        },
        "id": "4P7GF0x0eVAm"
      },
      "source": [
        "### Step 16. What is the average revenue amount per order?"
      ]
    },
    {
      "cell_type": "code",
      "execution_count": null,
      "metadata": {
        "pycharm": {
          "name": "#%%\n"
        },
        "colab": {
          "base_uri": "https://localhost:8080/"
        },
        "id": "Gn_2KBgleVAm",
        "outputId": "01a9f5bc-c5f4-4c63-c45a-64918a3b76ac"
      },
      "outputs": [
        {
          "output_type": "stream",
          "name": "stdout",
          "text": [
            "Average revenue per order (Solution 1): 21.39423118865867\n"
          ]
        }
      ],
      "source": [
        "# Solution 1\n",
        "\n",
        "avg_revenue_1 = total_revenue / total_orders\n",
        "print(\"Average revenue per order (Solution 1):\", avg_revenue_1)\n"
      ]
    },
    {
      "cell_type": "code",
      "execution_count": null,
      "metadata": {
        "pycharm": {
          "name": "#%%\n"
        },
        "colab": {
          "base_uri": "https://localhost:8080/"
        },
        "id": "Cb1YvAKxeVAm",
        "outputId": "515b19ac-240d-4d52-ea5d-c43a35de62b9"
      },
      "outputs": [
        {
          "output_type": "stream",
          "name": "stdout",
          "text": [
            "Average revenue per order (Solution 2): 21.39423118865867\n"
          ]
        },
        {
          "output_type": "stream",
          "name": "stderr",
          "text": [
            "/tmp/ipython-input-642229852.py:2: DeprecationWarning: DataFrameGroupBy.apply operated on the grouping columns. This behavior is deprecated, and in a future version of pandas the grouping columns will be excluded from the operation. Either pass `include_groups=False` to exclude the groupings or explicitly select the grouping columns after groupby to silence this warning.\n",
            "  avg_revenue_2 = chipo.groupby('order_id').apply(lambda x: (x.quantity * x.item_price).sum()).mean()\n"
          ]
        }
      ],
      "source": [
        "# Solution 2\n",
        "avg_revenue_2 = chipo.groupby('order_id').apply(lambda x: (x.quantity * x.item_price).sum()).mean()\n",
        "print(\"Average revenue per order (Solution 2):\", avg_revenue_2)\n",
        "\n"
      ]
    },
    {
      "cell_type": "markdown",
      "metadata": {
        "pycharm": {
          "name": "#%% md\n"
        },
        "id": "XmzF9h-peVAn"
      },
      "source": [
        "### Step 17. How many different items are sold?"
      ]
    },
    {
      "cell_type": "code",
      "execution_count": null,
      "metadata": {
        "pycharm": {
          "name": "#%%\n"
        },
        "colab": {
          "base_uri": "https://localhost:8080/"
        },
        "id": "vbBLCX4ueVAo",
        "outputId": "5f967129-4fca-4e05-f244-f46e407b5030"
      },
      "outputs": [
        {
          "output_type": "stream",
          "name": "stdout",
          "text": [
            "Number of unique items sold: 50\n"
          ]
        }
      ],
      "source": [
        "unique_items = chipo.item_name.nunique()\n",
        "print(\"Number of unique items sold:\", unique_items)\n"
      ]
    }
  ],
  "metadata": {
    "anaconda-cloud": {},
    "kernelspec": {
      "display_name": "Python [default]",
      "language": "python",
      "name": "python2"
    },
    "language_info": {
      "codemirror_mode": {
        "name": "ipython",
        "version": 2
      },
      "file_extension": ".py",
      "mimetype": "text/x-python",
      "name": "python",
      "nbconvert_exporter": "python",
      "pygments_lexer": "ipython2",
      "version": "2.7.12"
    },
    "colab": {
      "provenance": []
    }
  },
  "nbformat": 4,
  "nbformat_minor": 0
}